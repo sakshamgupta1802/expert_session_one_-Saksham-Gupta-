{
 "cells": [
  {
   "cell_type": "code",
   "execution_count": 4,
   "id": "0f52b8f9",
   "metadata": {},
   "outputs": [],
   "source": [
    "import json\n",
    "\n",
    "from stringMatcher import levenshtein_ratio_and_distance\n",
    "from time import time\n"
   ]
  },
  {
   "cell_type": "markdown",
   "id": "c2c96c70",
   "metadata": {},
   "source": [
    "# Load The database into the memory..."
   ]
  },
  {
   "cell_type": "code",
   "execution_count": 5,
   "id": "48bbdc27",
   "metadata": {},
   "outputs": [],
   "source": [
    "data = json.load(open(\"dataStore/dataFinal.json\", \"rb\"))"
   ]
  },
  {
   "cell_type": "markdown",
   "id": "5af57591",
   "metadata": {},
   "source": [
    "# Load the Global Secondary index in the memory.."
   ]
  },
  {
   "cell_type": "code",
   "execution_count": 6,
   "id": "e989192e",
   "metadata": {},
   "outputs": [],
   "source": [
    "GIS = json.load(open(\"dataStore/dataFinal_GIS.json\", \"rb\"))"
   ]
  },
  {
   "cell_type": "markdown",
   "id": "369a141c",
   "metadata": {},
   "source": [
    "# Write a function to search the colleges by Names"
   ]
  },
  {
   "cell_type": "code",
   "execution_count": 7,
   "id": "f55cf4bf",
   "metadata": {},
   "outputs": [],
   "source": [
    "def getClosestMatch(queryString):\n",
    "    # Initialize the time counter...\n",
    "    tic                  = time()\n",
    "    \n",
    "    # Find closest match of the queryString from the Global Secondary Index...\n",
    "    matchRatios          = [levenshtein_ratio_and_distance(queryString, KEY) for KEY, _ in GIS.items()]\n",
    "    bestMatchRatio       = max(matchRatios)\n",
    "\n",
    "    # If the best match ratio is less than 50% then we will assume that the records doesn't exist...\n",
    "    if (bestMatchRatio < 0.5):\n",
    "        return {\n",
    "            \"response code\" : 404,\n",
    "            \"search time\"   : f\"{time()-tic} seconds\",\n",
    "            \"message\"       : \"error\",\n",
    "            \"response body\" : \"no match found\"\n",
    "        }\n",
    "    \n",
    "   # Otherwise...\n",
    "    bestMatchRatio_index = matchRatios.index(bestMatchRatio)\n",
    "\n",
    "    # Find the college_id of the college which is the best match to the queryString...\n",
    "    bestMatch_College_Name = list(GIS)[bestMatchRatio_index]\n",
    "    bestMatch_college_id   = GIS[bestMatch_College_Name]\n",
    "\n",
    "    # Now we have college_id which is the primary key in our main data-store...\n",
    "    # Retrieve the details of the college from the college_id\n",
    "    collegeInfo            = data[str(bestMatch_college_id)]\n",
    "    \n",
    "    # Mark the search completion time...\n",
    "    toc                  = time()\n",
    "\n",
    "    # Add College_Name to the response...\n",
    "    collegeInfo[\"College_Name\"] = bestMatch_College_Name\n",
    "    # Construct the response Model...\n",
    "    responseModel = {\n",
    "        \"response code\" : 200,\n",
    "        \"search time\"   : f\"{toc-tic} seconds\",\n",
    "        \"message\"       : \"success\",\n",
    "        \"response body\" : collegeInfo\n",
    "    }\n",
    "    \n",
    "    return responseModel"
   ]
  },
  {
   "cell_type": "markdown",
   "id": "28a50a38",
   "metadata": {},
   "source": [
    "# Write a function to make a request and visualize the data returned by the search function..."
   ]
  },
  {
   "cell_type": "code",
   "execution_count": 8,
   "id": "481ebc14",
   "metadata": {},
   "outputs": [],
   "source": [
    "def request(collegeToSearch=\"\"):\n",
    "    # college name should always be in a string...\n",
    "    collegeToSearch = str(collegeToSearch)\n",
    "    # Check if the college name is valid...\n",
    "    if(collegeToSearch.replace(\" \", \"\").strip() == \"\"):\n",
    "        return f\"Invalid college Name\"\n",
    "    \n",
    "    # Make a request to fetch the college info...\n",
    "    response = getClosestMatch(queryString = collegeToSearch)\n",
    "\n",
    "    # Check the response code...\n",
    "    if response[\"response code\"] == 404:\n",
    "        return f\"ERROR: No records found\"\n",
    "    \n",
    "    # otherwise...\n",
    "    # Construct user ratings table...\n",
    "    Rating = response[\"response body\"][\"user_rating\"]\n",
    "    tag    = response[\"response body\"][\"tag\"]\n",
    "\n",
    "    for rating in Rating:\n",
    "        try    : tag_by_a_single_user_to_a_single_college = \", \".join([tag for tag in tags if Rating[\"userId\"] == tag[\"userId\"]]) \n",
    "        except : tag_by_a_single_user_to_a_single_college = \"\"\n",
    "        break\n",
    "    # Now we need to check if a user has given \n",
    "    data_to_print = f\"\\\n",
    "    College_Name          : {response['response body']['College_Name']}\\n\\\n",
    "    Stream         : {response['response body']['Streams']}\\n\\\n",
    "    State          : {response['response body']['States']}\\n\\\n",
    "    \"\n",
    "    print(data_to_print)\n"
   ]
  },
  {
   "cell_type": "code",
   "execution_count": 9,
   "id": "7d0fa2fc",
   "metadata": {},
   "outputs": [
    {
     "name": "stdout",
     "output_type": "stream",
     "text": [
      "    College_Name          : Indian Institute of Technology Madras \n",
      "    Stream         : Engineering\n",
      "    State          : Tamil nadu\n",
      "    \n"
     ]
    }
   ],
   "source": [
    "request(collegeToSearch=\"Indian Institute of Technology Madras \")"
   ]
  },
  {
   "cell_type": "code",
   "execution_count": 10,
   "id": "be81d3b4",
   "metadata": {},
   "outputs": [
    {
     "name": "stdout",
     "output_type": "stream",
     "text": [
      "    College_Name          : GLA University, Mathura \n",
      "    Stream         : Pharmacy\n",
      "    State          : Uttar pradesh\n",
      "    \n"
     ]
    }
   ],
   "source": [
    "request(collegeToSearch = \"GLA University, Mathura\")"
   ]
  },
  {
   "cell_type": "code",
   "execution_count": null,
   "id": "6f0681a8",
   "metadata": {},
   "outputs": [],
   "source": []
  }
 ],
 "metadata": {
  "kernelspec": {
   "display_name": "Python 3",
   "language": "python",
   "name": "python3"
  },
  "language_info": {
   "codemirror_mode": {
    "name": "ipython",
    "version": 3
   },
   "file_extension": ".py",
   "mimetype": "text/x-python",
   "name": "python",
   "nbconvert_exporter": "python",
   "pygments_lexer": "ipython3",
   "version": "3.8.8"
  }
 },
 "nbformat": 4,
 "nbformat_minor": 5
}
